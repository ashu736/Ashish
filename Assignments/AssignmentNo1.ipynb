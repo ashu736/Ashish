{
 "cells": [
  {
   "cell_type": "markdown",
   "metadata": {},
   "source": [
    "# Program 1\n"
   ]
  },
  {
   "cell_type": "code",
   "execution_count": 4,
   "metadata": {},
   "outputs": [
    {
     "name": "stdout",
     "output_type": "stream",
     "text": [
      "Enter First Name:Ashish\n",
      "Enter Last Name:Gaikwad\n",
      "Ashish Gaikwad\n",
      "Gaikwad Ashish\n"
     ]
    }
   ],
   "source": [
    "#Reverse i.e Lastname Firstname\n",
    "a = input(\"Enter First Name:\")\n",
    "b = input(\"Enter Last Name:\")\n",
    "c = (a +\" \"+ b)\n",
    "print(c)\n",
    "d = (b +\" \"+ a)\n",
    "print(d)"
   ]
  },
  {
   "cell_type": "markdown",
   "metadata": {},
   "source": [
    "# Program 2"
   ]
  },
  {
   "cell_type": "code",
   "execution_count": 54,
   "metadata": {},
   "outputs": [
    {
     "name": "stdout",
     "output_type": "stream",
     "text": [
      "Enter number form 1-7:3\n",
      "Green\n"
     ]
    }
   ],
   "source": [
    "#RainBow\n",
    "lst_rainbow = ['Red','Blue','Green','Yellow','Indigo','Orange','Black']\n",
    "a = int(input(\"Enter number form 1-7:\"))\n",
    "if(a==1):\n",
    "    print(lst_rainbow[0])\n",
    "elif(a==0 or a>=8):\n",
    "    print(\"Invalid Input\")\n",
    "else:\n",
    "    print(lst_rainbow[a-1])\n",
    "        "
   ]
  },
  {
   "cell_type": "markdown",
   "metadata": {},
   "source": [
    "# Program 3"
   ]
  },
  {
   "cell_type": "code",
   "execution_count": 78,
   "metadata": {},
   "outputs": [
    {
     "name": "stdout",
     "output_type": "stream",
     "text": [
      "Enter The number to check Even or ODD:3\n",
      "3 is ODD\n"
     ]
    }
   ],
   "source": [
    "#Even or ODD\n",
    "num = int(input(\"Enter The number to check Even or ODD:\"))\n",
    "if(num%2==0):\n",
    "    print(num,\"is EVEN\")\n",
    "else:\n",
    "    print(num,\"is ODD\")"
   ]
  },
  {
   "cell_type": "markdown",
   "metadata": {},
   "source": [
    "# Program 4"
   ]
  },
  {
   "cell_type": "code",
   "execution_count": 79,
   "metadata": {},
   "outputs": [
    {
     "name": "stdout",
     "output_type": "stream",
     "text": [
      "Enter charater to check vowel or not:A\n",
      "Vowel\n"
     ]
    }
   ],
   "source": [
    "#Vovel Or nor\n",
    "ch = input(\"Enter charater to check vowel or not:\")\n",
    "lst = ('a','e','i','o','u','A','E','I','O','U')\n",
    "if ch in lst:\n",
    "    print(\"Vowel\")\n",
    "else:\n",
    "    print(\"Not Vowel its Consonant\")\n"
   ]
  },
  {
   "cell_type": "markdown",
   "metadata": {},
   "source": [
    "# Program 6"
   ]
  },
  {
   "cell_type": "code",
   "execution_count": 83,
   "metadata": {},
   "outputs": [
    {
     "name": "stdout",
     "output_type": "stream",
     "text": [
      "Enter Integer:5\n",
      "615\n"
     ]
    }
   ],
   "source": [
    "# compute n+nn+nnn \n",
    "num = int(input(\"Enter Integer:\"))\n",
    "n = str(num)\n",
    "n1 = n+n\n",
    "n2 = n+n+n\n",
    "res = num+int(n1)+int(n2)\n",
    "print(res)"
   ]
  },
  {
   "cell_type": "markdown",
   "metadata": {},
   "source": [
    "# Program 7"
   ]
  },
  {
   "cell_type": "code",
   "execution_count": 93,
   "metadata": {},
   "outputs": [
    {
     "name": "stdout",
     "output_type": "stream",
     "text": [
      "Enter Radius:3\n",
      "28.259999999999998\n"
     ]
    }
   ],
   "source": [
    "#Area of Circle\n",
    "#Not used TRY and Except Don't konw the syntax\n",
    "pi=3.14\n",
    "rad = int(input(\"Enter Radius:\"))\n",
    "area = pi*rad*rad \n",
    "print(area)"
   ]
  },
  {
   "cell_type": "markdown",
   "metadata": {},
   "source": [
    "# Program 8\n"
   ]
  },
  {
   "cell_type": "code",
   "execution_count": 104,
   "metadata": {},
   "outputs": [
    {
     "name": "stdout",
     "output_type": "stream",
     "text": [
      "Enter First num:3\n",
      "Enter Secound num:2\n"
     ]
    },
    {
     "data": {
      "text/plain": [
       "True"
      ]
     },
     "execution_count": 104,
     "metadata": {},
     "output_type": "execute_result"
    }
   ],
   "source": [
    "#Return True if same or sum 0r dii is 5\n",
    "def comp(num1,num2):\n",
    "    num1  = int(input(\"Enter First num:\"))\n",
    "    num2 = int(input(\"Enter Secound num:\"))\n",
    "    if(num1==num2 or (num1-num2)==5 or (num1+num2)==5):\n",
    "        return True\n",
    "    else:\n",
    "        return False\n",
    "comp(num1,num2)   "
   ]
  },
  {
   "cell_type": "markdown",
   "metadata": {},
   "source": [
    "# Program 9"
   ]
  },
  {
   "cell_type": "code",
   "execution_count": 111,
   "metadata": {},
   "outputs": [
    {
     "name": "stdout",
     "output_type": "stream",
     "text": [
      "Enter Principle:1000\n",
      "Enter Rate:2\n",
      "Enter time:3\n",
      "Interest: 60.0\n",
      "Amount: 1060.0\n"
     ]
    }
   ],
   "source": [
    "#Interest And Amount\n",
    "p = float(input(\"Enter Principle:\"))\n",
    "r = float(input(\"Enter Rate:\"))\n",
    "t = float(input(\"Enter time:\"))\n",
    "si = (p*r*t)/100\n",
    "am = (p+si) \n",
    "print(\"Interest:\",si)\n",
    "print(\"Amount:\",am)"
   ]
  },
  {
   "cell_type": "markdown",
   "metadata": {},
   "source": [
    "# Program 10"
   ]
  },
  {
   "cell_type": "code",
   "execution_count": 7,
   "metadata": {},
   "outputs": [
    {
     "name": "stdout",
     "output_type": "stream",
     "text": [
      "Enter String:w3\n",
      "w3w3\n"
     ]
    }
   ],
   "source": [
    "str1 = input(\"Enter String:\")\n",
    "lst = list(str1)\n",
    "for i in lst:\n",
    "    if len(lst)>=2:\n",
    "        new_str = str1[0:2] + str1[-2:]\n",
    "       \n",
    "    else :\n",
    "        print(\"Empty String\")\n",
    "print(new_str)    \n",
    "        \n",
    "        \n",
    "    "
   ]
  },
  {
   "cell_type": "code",
   "execution_count": null,
   "metadata": {},
   "outputs": [],
   "source": []
  },
  {
   "cell_type": "code",
   "execution_count": null,
   "metadata": {},
   "outputs": [],
   "source": []
  }
 ],
 "metadata": {
  "kernelspec": {
   "display_name": "Python 3",
   "language": "python",
   "name": "python3"
  },
  "language_info": {
   "codemirror_mode": {
    "name": "ipython",
    "version": 3
   },
   "file_extension": ".py",
   "mimetype": "text/x-python",
   "name": "python",
   "nbconvert_exporter": "python",
   "pygments_lexer": "ipython3",
   "version": "3.8.5"
  }
 },
 "nbformat": 4,
 "nbformat_minor": 4
}
